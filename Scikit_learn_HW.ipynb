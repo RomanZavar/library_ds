{
  "nbformat": 4,
  "nbformat_minor": 0,
  "metadata": {
    "colab": {
      "provenance": [],
      "authorship_tag": "ABX9TyMm+TDarF+IeedBwVLjbs0a"
    },
    "kernelspec": {
      "name": "python3",
      "display_name": "Python 3"
    },
    "language_info": {
      "name": "python"
    }
  },
  "cells": [
    {
      "cell_type": "markdown",
      "source": [
        "## Задание 1\n",
        "* Импортируйте библиотеки pandas и numpy.\n",
        "\n",
        "Загрузите \"Boston House Prices dataset\" из встроенных наборов данных библиотеки sklearn. Создайте датафреймы X и Y из этих данных.\n",
        "\n",
        "Разбейте эти датафреймы на тренировочные (X_train, y_train) и тестовые (X_test, y_test) с помощью функции train_test_split так, чтобы размер тестовой выборки составлял 30% от всех данных, при этом аргумент random_state должен быть равен 42.\n",
        "\n",
        "Создайте модель линейной регрессии под названием lr с помощью класса LinearRegression из модуля sklearn.linear_model.\n",
        "\n",
        "Обучите модель на тренировочных данных (используйте все признаки) и сделайте предсказание на тестовых."
      ],
      "metadata": {
        "id": "4HTqSljaMf4p"
      }
    },
    {
      "cell_type": "code",
      "source": [
        "\n",
        "import pandas as pd\n",
        "import numpy as np\n",
        "\n",
        "data_url = \"http://lib.stat.cmu.edu/datasets/boston\"\n",
        "raw_df = pd.read_csv(data_url, sep=\"\\s+\", skiprows=22, header=None)\n",
        "data = np.hstack([raw_df.values[::2, :], raw_df.values[1::2, :2]])\n",
        "target = raw_df.values[1::2, 2]"
      ],
      "metadata": {
        "id": "k78oD93s_T3u"
      },
      "execution_count": 36,
      "outputs": []
    },
    {
      "cell_type": "code",
      "source": [
        "from sklearn.model_selection import train_test_split\n",
        "X_train, X_test, y_train, y_test = train_test_split(data, target, test_size=0.3, random_state=42)"
      ],
      "metadata": {
        "id": "0lOBQ6dD_WnT"
      },
      "execution_count": 37,
      "outputs": []
    },
    {
      "cell_type": "code",
      "source": [
        "from sklearn.linear_model import LinearRegression\n",
        "lr = LinearRegression()"
      ],
      "metadata": {
        "id": "10nb_C6wDflY"
      },
      "execution_count": 38,
      "outputs": []
    },
    {
      "cell_type": "code",
      "source": [
        "y_pred = lr.predict(X_test)"
      ],
      "metadata": {
        "id": "Fd2Qowo9D2LP"
      },
      "execution_count": 40,
      "outputs": []
    },
    {
      "cell_type": "code",
      "source": [
        "from sklearn.metrics import mean_squared_error, mean_absolute_error, r2_score\n",
        "print(\"MSE\", mean_squared_error(y_pred, y_test))\n",
        "print(\"MAE\", mean_absolute_error(y_pred, y_test))\n",
        "print(\"R2\", r2_score(y_pred, y_test))"
      ],
      "metadata": {
        "colab": {
          "base_uri": "https://localhost:8080/"
        },
        "id": "AwkbVM-TEAWp",
        "outputId": "1ff4b915-9247-41a7-824b-e17078565401"
      },
      "execution_count": 41,
      "outputs": [
        {
          "output_type": "stream",
          "name": "stdout",
          "text": [
            "MSE 21.51744423117753\n",
            "MAE 3.162709871457436\n",
            "R2 0.6693702691495593\n"
          ]
        }
      ]
    },
    {
      "cell_type": "markdown",
      "source": [
        "## Задание 2\n",
        "* Создайте модель под названием model с помощью класса RandomForestRegressor из модуля sklearn.ensemble. Сделайте агрумент n_estimators равным 1000, max_depth должен быть равен 12 и random_state сделайте равным 42.\n",
        "\n",
        "* Обучите модель на тренировочных данных аналогично тому, как вы обучали модель LinearRegression, но при этом в метод fit вместо датафрейма y_train поставьте y_train.values[:, 0], чтобы получить из датафрейма одномерный массив Numpy"
      ],
      "metadata": {
        "id": "mDop0agREeL5"
      }
    },
    {
      "cell_type": "code",
      "source": [
        "from sklearn.ensemble import RandomForestRegressor\n",
        "model = RandomForestRegressor(n_estimators=1000, max_depth=12, random_state=42)"
      ],
      "metadata": {
        "id": "1mWgemVxEiY2"
      },
      "execution_count": 23,
      "outputs": []
    },
    {
      "cell_type": "code",
      "source": [
        "type(y_train)"
      ],
      "metadata": {
        "colab": {
          "base_uri": "https://localhost:8080/"
        },
        "id": "WFQLLS9kEzgL",
        "outputId": "dbcacbe2-75de-4a8f-ebce-7c773d813887"
      },
      "execution_count": 24,
      "outputs": [
        {
          "output_type": "execute_result",
          "data": {
            "text/plain": [
              "numpy.ndarray"
            ]
          },
          "metadata": {},
          "execution_count": 24
        }
      ]
    },
    {
      "cell_type": "code",
      "source": [
        "y_pred_rf = model.predict(X_test)\n",
        "print(\"MSE\", mean_squared_error(y_pred_rf, y_test))\n",
        "print(\"MAE\", mean_absolute_error(y_pred_rf, y_test))\n",
        "print(\"R2\", r2_score(y_pred_rf, y_test))"
      ],
      "metadata": {
        "colab": {
          "base_uri": "https://localhost:8080/"
        },
        "id": "BEla52f4Fih6",
        "outputId": "94a5e041-f0b7-467d-b941-d216e5ca4cbd"
      },
      "execution_count": 26,
      "outputs": [
        {
          "output_type": "stream",
          "name": "stdout",
          "text": [
            "MSE 9.334548946165196\n",
            "MAE 2.0831253879090608\n",
            "R2 0.8479049999699443\n"
          ]
        }
      ]
    },
    {
      "cell_type": "markdown",
      "source": [
        "Случайеый лес показывает боллее точные результаты"
      ],
      "metadata": {
        "id": "nO_1g_gfLvrq"
      }
    },
    {
      "cell_type": "markdown",
      "source": [
        "## *Задание 3\n",
        "* Вызовите документацию для класса RandomForestRegressor, найдите информацию об атрибуте feature_importances_.\n",
        "\n",
        "* С помощью этого атрибута найдите сумму всех показателей важности, установите, какие два признака показывают наибольшую важность."
      ],
      "metadata": {
        "id": "CXeC_jKDF3mS"
      }
    },
    {
      "cell_type": "code",
      "source": [
        "help(RandomForestRegressor.feature_importances_)"
      ],
      "metadata": {
        "colab": {
          "base_uri": "https://localhost:8080/"
        },
        "id": "W2dGjUkGGCRt",
        "outputId": "d01c13e7-3846-4bc9-e628-73321669b17c"
      },
      "execution_count": 31,
      "outputs": [
        {
          "output_type": "stream",
          "name": "stdout",
          "text": [
            "Help on property:\n",
            "\n",
            "    The impurity-based feature importances.\n",
            "    \n",
            "    The higher, the more important the feature.\n",
            "    The importance of a feature is computed as the (normalized)\n",
            "    total reduction of the criterion brought by that feature.  It is also\n",
            "    known as the Gini importance.\n",
            "    \n",
            "    Warning: impurity-based feature importances can be misleading for\n",
            "    high cardinality features (many unique values). See\n",
            "    :func:`sklearn.inspection.permutation_importance` as an alternative.\n",
            "    \n",
            "    Returns\n",
            "    -------\n",
            "    feature_importances_ : ndarray of shape (n_features,)\n",
            "        The values of this array sum to 1, unless all trees are single node\n",
            "        trees consisting of only the root node, in which case it will be an\n",
            "        array of zeros.\n",
            "\n"
          ]
        }
      ]
    }
  ]
}